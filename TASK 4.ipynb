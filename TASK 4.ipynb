{
 "cells": [
  {
   "cell_type": "code",
   "execution_count": 1,
   "id": "reverse-programming",
   "metadata": {},
   "outputs": [],
   "source": [
    "#importing libraries\n",
    "import numpy as np\n",
    "import cv2 as cv\n"
   ]
  },
  {
   "cell_type": "code",
   "execution_count": null,
   "id": "serious-format",
   "metadata": {},
   "outputs": [],
   "source": [
    "'''                                                               \n",
    "                             Creating an image using OpenCV with Python\n",
    "'''\n",
    "#creating a blank black colored image\n",
    "blank=np.zeros((500,500,3),dtype='uint8') \n",
    "#creating a rectangle on left side vertically\n",
    "blank=cv.rectangle(blank,(0,0),(250,500),(49,99,53),thickness=-1)\n",
    "#creating a rectangle on right side vertically\n",
    "blank=cv.rectangle(blank,(250,0),(500,500),(99,53,49),thickness=-1)\n",
    "#drawing a big circle\n",
    "blank=cv.circle(blank,(250,250),250,(255,255,255),thickness=-1)\n",
    "#drawing a small circle\n",
    "blank=cv.circle(blank,(250,250),125,(27,27,27),thickness=-1)\n",
    "# Drawing an orange line top-left\n",
    "cv.line(blank, (0,250), (250,0), (0,100,255), (5))\n",
    "# Drawing an orange line bottom-right\n",
    "cv.line(blank, (500,250), (250,500), (0,100,255), (5))\n",
    "# Drawing an orange line top-right\n",
    "cv.line(blank, (250,0), (500,250), (0,100,255), (5))\n",
    "# Drawing an orange line bottom-right\n",
    "cv.line (blank, (0,250), (250,500), (0,100,255), (5))\n",
    "#drawing a smaller circle\n",
    "cv.circle(blank,(250,250),50,(255,255,255),thickness=-1)\n",
    "cv.imshow('Custom image', blank)\n",
    "cv.waitKey(0) #to hold the photo\n",
    "cv.destroyAllWindows() #to close the window"
   ]
  },
  {
   "cell_type": "code",
   "execution_count": 40,
   "id": "cathedral-inventory",
   "metadata": {},
   "outputs": [
    {
     "name": "stdout",
     "output_type": "stream",
     "text": [
      "(376, 278, 3)\n",
      "(466, 237, 3)\n"
     ]
    }
   ],
   "source": [
    "'''                                                               \n",
    "                             Cropping and swapping two images using OpenCV with Python\n",
    "'''\n",
    "img1 = cv.imread('balls.jpg')\n",
    "img2 = cv.imread('guy.jpg')\n",
    "print(img1.shape)\n",
    "print(img2.shape)"
   ]
  },
  {
   "cell_type": "code",
   "execution_count": 41,
   "id": "seven-julian",
   "metadata": {},
   "outputs": [],
   "source": [
    "#extracting football image by cropping\n",
    "football=img1[20:180,50:200]\n",
    "cv.imshow('football cropped image', football)\n",
    "cv.waitKey(0) #to hold the photo\n",
    "cv.destroyAllWindows() #to close the window"
   ]
  },
  {
   "cell_type": "code",
   "execution_count": 42,
   "id": "authorized-cosmetic",
   "metadata": {},
   "outputs": [],
   "source": [
    "#resizing football image\n",
    "football= cv.resize(football, (100, 100))\n",
    "#swaping it with one of the legs in the other picture\n",
    "img2[366:466,0:100]=football\n",
    "cv.imshow('Swapped image', img2)\n",
    "cv.waitKey(0) #to hold the photo\n",
    "cv.destroyAllWindows() #to close the window"
   ]
  },
  {
   "cell_type": "code",
   "execution_count": 38,
   "id": "fifth-bacon",
   "metadata": {},
   "outputs": [],
   "source": [
    "'''                                                               \n",
    "                             Merging two images using OpenCV with Python\n",
    "'''\n",
    "img1 = cv.imread('rightimage.jpg')\n",
    "img2 = cv.imread('leftimage.jpg')\n",
    "horizontal = np.hstack((img2,img1))\n",
    "cv.imshow(\"Collage\",horizontal)\n",
    "cv.waitKey(0)\n",
    "cv.destroyAllWindows()"
   ]
  }
 ],
 "metadata": {
  "kernelspec": {
   "display_name": "Python 3",
   "language": "python",
   "name": "python3"
  },
  "language_info": {
   "codemirror_mode": {
    "name": "ipython",
    "version": 3
   },
   "file_extension": ".py",
   "mimetype": "text/x-python",
   "name": "python",
   "nbconvert_exporter": "python",
   "pygments_lexer": "ipython3",
   "version": "3.7.4"
  }
 },
 "nbformat": 4,
 "nbformat_minor": 5
}
